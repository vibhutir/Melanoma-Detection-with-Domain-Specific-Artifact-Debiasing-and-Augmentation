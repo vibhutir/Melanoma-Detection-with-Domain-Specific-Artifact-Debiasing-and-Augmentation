{
  "nbformat": 4,
  "nbformat_minor": 0,
  "metadata": {
    "colab": {
      "name": "Hand Crafted Features.ipynb",
      "provenance": [],
      "collapsed_sections": [],
      "include_colab_link": true
    },
    "kernelspec": {
      "name": "python3",
      "display_name": "Python 3"
    },
    "language_info": {
      "name": "python"
    }
  },
  "cells": [
    {
      "cell_type": "markdown",
      "metadata": {
        "id": "view-in-github",
        "colab_type": "text"
      },
      "source": [
        "<a href=\"https://colab.research.google.com/github/vibhutir/Melanoma-Detection-with-Domain-Specific-Artifact-Debiasing-and-Augmentation/blob/main/Hand_Crafted_Features.ipynb\" target=\"_parent\"><img src=\"https://colab.research.google.com/assets/colab-badge.svg\" alt=\"Open In Colab\"/></a>"
      ]
    },
    {
      "cell_type": "markdown",
      "source": [
        "** Few Hand Crafted Feature extraction functions **\n",
        "\n",
        "\n",
        "* Hu Moments\n",
        "* Zerinke Moments \n",
        "* Haralick features\n",
        "* Local Binary Pattern \n",
        "* Color Histogram \n",
        "* Global Features\n",
        "\n"
      ],
      "metadata": {
        "id": "PTNMO96ohHMa"
      }
    },
    {
      "cell_type": "code",
      "source": [
        "from google.colab import drive\n",
        "drive.mount('/content/drive')"
      ],
      "metadata": {
        "colab": {
          "base_uri": "https://localhost:8080/"
        },
        "id": "L3x0ttNYhQDZ",
        "outputId": "a99564a9-77c3-4137-c596-54caff550b6e"
      },
      "execution_count": null,
      "outputs": [
        {
          "output_type": "stream",
          "name": "stdout",
          "text": [
            "Mounted at /content/drive\n"
          ]
        }
      ]
    },
    {
      "cell_type": "code",
      "source": [
        "%cd '//content//drive//My Drive//EECS 545//'\n",
        "%ls"
      ],
      "metadata": {
        "colab": {
          "base_uri": "https://localhost:8080/"
        },
        "id": "MCmCCKmXi6eB",
        "outputId": "2b3113a9-1eec-43af-85f7-517686b59545"
      },
      "execution_count": null,
      "outputs": [
        {
          "output_type": "stream",
          "name": "stdout",
          "text": [
            "[Errno 2] No such file or directory: '//content//drive//My Drive//EECS 545//'\n",
            "/content\n",
            "\u001b[0m\u001b[01;34mdrive\u001b[0m/  \u001b[01;34msample_data\u001b[0m/\n"
          ]
        }
      ]
    },
    {
      "cell_type": "code",
      "source": [
        "import os\n",
        "import matplotlib.pyplot as plt\n",
        "import pandas as pd\n",
        "import numpy as np\n",
        "import cv2\n",
        "import mahotas\n",
        "from skimage.feature import local_binary_pattern\n",
        "from sklearn.cluster import KMeans\n",
        "from google.colab.patches import cv2_imshow"
      ],
      "metadata": {
        "id": "iDDzI12rjEzy",
        "colab": {
          "base_uri": "https://localhost:8080/",
          "height": 374
        },
        "outputId": "80da3b0b-7e53-4e80-aec0-0e90f87bcfb6"
      },
      "execution_count": null,
      "outputs": [
        {
          "output_type": "error",
          "ename": "ModuleNotFoundError",
          "evalue": "ignored",
          "traceback": [
            "\u001b[0;31m---------------------------------------------------------------------------\u001b[0m",
            "\u001b[0;31mModuleNotFoundError\u001b[0m                       Traceback (most recent call last)",
            "\u001b[0;32m<ipython-input-3-72e0ebad5a25>\u001b[0m in \u001b[0;36m<module>\u001b[0;34m()\u001b[0m\n\u001b[1;32m      4\u001b[0m \u001b[0;32mimport\u001b[0m \u001b[0mnumpy\u001b[0m \u001b[0;32mas\u001b[0m \u001b[0mnp\u001b[0m\u001b[0;34m\u001b[0m\u001b[0;34m\u001b[0m\u001b[0m\n\u001b[1;32m      5\u001b[0m \u001b[0;32mimport\u001b[0m \u001b[0mcv2\u001b[0m\u001b[0;34m\u001b[0m\u001b[0;34m\u001b[0m\u001b[0m\n\u001b[0;32m----> 6\u001b[0;31m \u001b[0;32mimport\u001b[0m \u001b[0mmahotas\u001b[0m\u001b[0;34m\u001b[0m\u001b[0;34m\u001b[0m\u001b[0m\n\u001b[0m\u001b[1;32m      7\u001b[0m \u001b[0;32mfrom\u001b[0m \u001b[0mskimage\u001b[0m\u001b[0;34m.\u001b[0m\u001b[0mfeature\u001b[0m \u001b[0;32mimport\u001b[0m \u001b[0mlocal_binary_pattern\u001b[0m\u001b[0;34m\u001b[0m\u001b[0;34m\u001b[0m\u001b[0m\n\u001b[1;32m      8\u001b[0m \u001b[0;32mfrom\u001b[0m \u001b[0msklearn\u001b[0m\u001b[0;34m.\u001b[0m\u001b[0mcluster\u001b[0m \u001b[0;32mimport\u001b[0m \u001b[0mKMeans\u001b[0m\u001b[0;34m\u001b[0m\u001b[0;34m\u001b[0m\u001b[0m\n",
            "\u001b[0;31mModuleNotFoundError\u001b[0m: No module named 'mahotas'",
            "",
            "\u001b[0;31m---------------------------------------------------------------------------\u001b[0;32m\nNOTE: If your import is failing due to a missing package, you can\nmanually install dependencies using either !pip or !apt.\n\nTo view examples of installing some common dependencies, click the\n\"Open Examples\" button below.\n\u001b[0;31m---------------------------------------------------------------------------\u001b[0m\n"
          ],
          "errorDetails": {
            "actions": [
              {
                "action": "open_url",
                "actionText": "Open Examples",
                "url": "/notebooks/snippets/importing_libraries.ipynb"
              }
            ]
          }
        }
      ]
    },
    {
      "cell_type": "code",
      "source": [
        "!pip install mahotas"
      ],
      "metadata": {
        "id": "DKjpzoLHjZ0K"
      },
      "execution_count": null,
      "outputs": []
    },
    {
      "cell_type": "markdown",
      "source": [
        "Read Image"
      ],
      "metadata": {
        "id": "WhwNGO_ikIjv"
      }
    },
    {
      "cell_type": "code",
      "source": [
        "img = cv2.imread('//content//drive//My Drive//EECS 545//Normalized_isic2018//isic2018-norm-pix-alldata//ISIC_0000003.png')\n",
        "print(img.shape)\n",
        "cv2_imshow(img)"
      ],
      "metadata": {
        "id": "s_NjX_3ajdNZ"
      },
      "execution_count": null,
      "outputs": []
    },
    {
      "cell_type": "markdown",
      "source": [
        "FEATURE EXTRACTION CODES"
      ],
      "metadata": {
        "id": "1GlxrVO-lrYj"
      }
    },
    {
      "cell_type": "markdown",
      "source": [
        "1. HU Moments ( Shape Descriptor )"
      ],
      "metadata": {
        "id": "o9a6t5JXlwLX"
      }
    },
    {
      "cell_type": "markdown",
      "source": [
        "The feature vector obtained after calling this function can be used to quantify and represent the shape of an object in an image.\n",
        "\n",
        "[The workings and possible problems of using HU moments](https://learnopencv.com/shape-matching-using-hu-moments-c-python/)"
      ],
      "metadata": {
        "id": "_qdQLbUVnEtm"
      }
    },
    {
      "cell_type": "code",
      "source": [
        "# Extract Hu Moments feature of an image. It returns the 7 HU moments of the image. Inp is BGR Format\n",
        "\n",
        "def find_hu_moments(x):    \n",
        "    \n",
        "    gray = cv2.cvtColor(x, cv2.COLOR_BGR2GRAY)\n",
        "    hu_moment = cv2.HuMoments(cv2.moments(gray)).flatten()\n",
        "\n",
        "    return hu_moment"
      ],
      "metadata": {
        "id": "QWb8jp1QkWP2"
      },
      "execution_count": null,
      "outputs": []
    },
    {
      "cell_type": "code",
      "source": [
        "hum = find_hu_moments(img)\n",
        "hum"
      ],
      "metadata": {
        "id": "87fzQMuCmUnV"
      },
      "execution_count": null,
      "outputs": []
    },
    {
      "cell_type": "markdown",
      "source": [
        "2. Zerinke Moments ( Shape Descriptor )"
      ],
      "metadata": {
        "id": "LXQ_EownngE9"
      }
    },
    {
      "cell_type": "markdown",
      "source": [
        "These are more powerful and less computationally expensive as compared to the Hu moments. Again, it is a shape extracting feature. Could be used for boundaries.\n",
        "\n",
        "[Zerinke Moments](https://cvexplained.wordpress.com/2020/07/21/10-5-zernike-moments/)"
      ],
      "metadata": {
        "id": "qRCib_eFoU2e"
      }
    },
    {
      "cell_type": "code",
      "source": [
        "# Extract Zerinke Moments feature of an image. It returns the 25 moments of the image. Inp is BGR Format\n",
        "\n",
        "def find_zernike_moments(x, radius=21, degree=8):\n",
        "\n",
        "    gray = cv2.cvtColor(x, cv2.COLOR_BGR2GRAY)\n",
        "    zk_moment = mahotas.features.zernike_moments(gray, radius, degree)\n",
        "\n",
        "    return zk_moment"
      ],
      "metadata": {
        "id": "ozSgHwW1meck"
      },
      "execution_count": null,
      "outputs": []
    },
    {
      "cell_type": "markdown",
      "source": [
        "3. Haralick Moments ( Texture Descriptor )"
      ],
      "metadata": {
        "id": "kH6sYAAvoz1P"
      }
    },
    {
      "cell_type": "markdown",
      "source": [
        "Texture descriptors. More information in :\n",
        "\n",
        "[Haralick](https://www.geeksforgeeks.org/mahotas-haralick-features/)"
      ],
      "metadata": {
        "id": "1lAB0cTjoz-X"
      }
    },
    {
      "cell_type": "code",
      "source": [
        "# Extract Haralick feature of an image. Inp is BGR Format\n",
        "\n",
        "def find_haralick(x):\n",
        "\n",
        "    gray = cv2.cvtColor(x, cv2.COLOR_BGR2GRAY)\n",
        "    haralick = mahotas.features.haralick(gray).mean(axis=0)\n",
        "\n",
        "    return haralick"
      ],
      "metadata": {
        "id": "URG4RFI2onq4"
      },
      "execution_count": null,
      "outputs": []
    },
    {
      "cell_type": "markdown",
      "source": [
        "4. Local Binary Patterns ( Texture Descriptors )"
      ],
      "metadata": {
        "id": "3QCVLLKHpuZ9"
      }
    },
    {
      "cell_type": "markdown",
      "source": [
        "Texture descriptors. Read more at :\n",
        "\n",
        "1. [Resource 1](https://scikit-image.org/docs/dev/auto_examples/features_detection/plot_local_binary_pattern.html)\n",
        "\n",
        "2. [Resource 2](https://www.geeksforgeeks.org/create-local-binary-pattern-of-an-image-using-opencv-python/#:~:text=Local%20Binary%20Pattern%2C%20also%20known,value%20of%20the%20centre%20pixel.)"
      ],
      "metadata": {
        "id": "5WUaRaVAp3gD"
      }
    },
    {
      "cell_type": "code",
      "source": [
        "# Extract LBP HISTOGRAM feature of an image. Inp is BGR Format\n",
        "\n",
        "def find_lbp(x, numPoints=24, radius=8):\n",
        "    \n",
        "    gray = cv2.cvtColor(x, cv2.COLOR_BGR2GRAY)\n",
        "    lbp = local_binary_pattern(gray, numPoints, radius, method='uniform')\n",
        "    n_bins = int(lbp.max() + 1)\n",
        "    result, _ = np.histogram(lbp.ravel(), bins=n_bins, range=(0, n_bins), density=True)\n",
        "\n",
        "    return result"
      ],
      "metadata": {
        "id": "xNPVvFC1psg1"
      },
      "execution_count": null,
      "outputs": []
    },
    {
      "cell_type": "markdown",
      "source": [
        "5. Colour Histograms "
      ],
      "metadata": {
        "id": "799nXXKasLMj"
      }
    },
    {
      "cell_type": "code",
      "source": [
        "# Extract colour HISTOGRAM feature of an image. Inp is BGR Format\n",
        "\n",
        "def find_colour_histogram(img, n_bins=8):\n",
        "    \n",
        "    hsv = cv2.cvtColor(img, cv2.COLOR_BGR2HSV) # convert the image to HSV color-space\n",
        "    hist  = cv2.calcHist([hsv], [0, 1, 2], None, [n_bins, n_bins, n_bins], [0, 180, 0, 256, 0, 256])\n",
        "    cv2.normalize(hist, hist)\n",
        "    out = hist.flatten()\n",
        "\n",
        "    return out"
      ],
      "metadata": {
        "id": "R6AZeipTrEQn"
      },
      "execution_count": null,
      "outputs": []
    },
    {
      "cell_type": "markdown",
      "source": [
        "6. Extract Global Features\n"
      ],
      "metadata": {
        "id": "SiJ9RFJRsiye"
      }
    },
    {
      "cell_type": "markdown",
      "source": [
        "Put all into one for convenience\n"
      ],
      "metadata": {
        "id": "QhTGXGmQso3m"
      }
    },
    {
      "cell_type": "code",
      "source": [
        "# Input is BGR format and it returns global feature array containing shape, texture and colour features of image.\n",
        "\n",
        "def find_global_features(img):\n",
        "    \n",
        "    hu_moments = find_hu_moments(img)\n",
        "    zernike_moments = find_zernike_moments(img)\n",
        "    haralick   = find_haralick(img)\n",
        "    lbp_histogram  = find_lbp(img)\n",
        "    color_histogram  = find_colour_histogram(img)\n",
        "    global_feature = np.hstack([hu_moments, zernike_moments, haralick, lbp_histogram, color_histogram])\n",
        "    \n",
        "    return global_feature"
      ],
      "metadata": {
        "id": "7asnl0n_sh7J"
      },
      "execution_count": null,
      "outputs": []
    },
    {
      "cell_type": "code",
      "source": [
        ""
      ],
      "metadata": {
        "id": "IV3fY5DZs_jh"
      },
      "execution_count": null,
      "outputs": []
    }
  ]
}